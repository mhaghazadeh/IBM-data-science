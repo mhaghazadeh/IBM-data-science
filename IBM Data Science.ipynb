{
 "cells": [
  {
   "cell_type": "markdown",
   "id": "63ed3a51",
   "metadata": {},
   "source": [
    "# My Jupyter Notebook on IBM Watson Studio"
   ]
  },
  {
   "cell_type": "markdown",
   "id": "bbf9bb41",
   "metadata": {},
   "source": [
    "**mohammad aghazadeh**\n",
    "\n",
    "I am corrently a student in IRAN and in the middle of a revolution"
   ]
  },
  {
   "cell_type": "markdown",
   "id": "c551f67b",
   "metadata": {},
   "source": [
    "_I am interested in data science because of all the opurtunities that came with DS and AI_"
   ]
  },
  {
   "cell_type": "markdown",
   "id": "2f28c7a1",
   "metadata": {},
   "source": [
    "### Im going to print this \n"
   ]
  },
  {
   "cell_type": "code",
   "execution_count": 1,
   "id": "d74058cb",
   "metadata": {},
   "outputs": [
    {
     "name": "stdout",
     "output_type": "stream",
     "text": [
      "Im going to print this\n"
     ]
    }
   ],
   "source": [
    "\n",
    "print (\"Im going to print this\")"
   ]
  },
  {
   "cell_type": "markdown",
   "id": "2390ba49",
   "metadata": {},
   "source": [
    "[google](https://google.com)\n",
    "\n",
    "\n",
    "<html>\n",
    "    <body>\n",
    "        An ordered list:\n",
    "       <ol> \n",
    "           <li>first item</li>\n",
    "           <li>second item</li>\n",
    "           <li>third item</li>\n",
    "       </ol>\n",
    "    </body>\n",
    "</html>\n",
    "\n",
    "\n",
    "<html>\n",
    "    <body>\n",
    "        <ul>\n",
    "            <li>first item</li>\n",
    "           <li>second item</li>\n",
    "           <li>third item</li>\n",
    "        </ul>\n",
    "    </body>\n",
    "</html>\n",
    "\n"
   ]
  }
 ],
 "metadata": {
  "kernelspec": {
   "display_name": "Python 3 (ipykernel)",
   "language": "python",
   "name": "python3"
  },
  "language_info": {
   "codemirror_mode": {
    "name": "ipython",
    "version": 3
   },
   "file_extension": ".py",
   "mimetype": "text/x-python",
   "name": "python",
   "nbconvert_exporter": "python",
   "pygments_lexer": "ipython3",
   "version": "3.9.13"
  }
 },
 "nbformat": 4,
 "nbformat_minor": 5
}
